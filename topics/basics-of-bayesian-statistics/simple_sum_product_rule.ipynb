{
 "cells": [
  {
   "cell_type": "markdown",
   "metadata": {},
   "source": [
    "# Checking the sum and product rules, and their consequences\n",
    "\n",
    "Goal: Check using a very simple example that the Bayesian rules are consistent with standard probabilities based on frequencies.  Also check notation and vocabulary.\n",
    "\n",
    "Physicist-friendly references:\n",
    "\n",
    "* R. Trotta, [*Bayes in the sky: Bayesian inference and model selection in cosmology*](https://www.tandfonline.com/doi/abs/10.1080/00107510802066753), Contemp. Phys. **49**, 71 (2008)  [arXiv:0803.4089](https://arxiv.org/abs/0803.4089).\n",
    "        \n",
    "* D.S. Sivia and J. Skilling, [*Data Analysis: A Bayesian Tutorial, 2nd edition*](\"https://www.amazon.com/Data-Analysis-Bayesian-Devinderjit-Sivia/dp/0198568320/ref=mt_paperback?_encoding=UTF8&me=&qid=\"), (Oxford University Press, 2006).\n",
    "    \n",
    "* P. Gregory,\n",
    "     [*Bayesian Logical Data Analysis for the Physical Sciences: A Comparative Approach with Mathematica® Support*](\"https://www.amazon.com/Bayesian-Logical-Analysis-Physical-Sciences/dp/0521150124/ref=sr_1_1?s=books&ie=UTF8&qid=1538587731&sr=1-1&keywords=gregory+bayesian\"), (Cambridge University Press, 2010).\n",
    "\n",
    "$% Some LaTeX definitions we'll use.\n",
    "\\newcommand{\\pr}{\\textrm{p}}\n",
    "$"
   ]
  },
  {
   "cell_type": "markdown",
   "metadata": {},
   "source": [
    "### Bayesian rules of probability as principles of logic \n",
    "\n",
    "Notation: $p(x \\mid I)$ is the probability (or pdf) of $x$ being true\n",
    "given information $I$\n",
    "\n",
    "1. **Sum rule:** If set $\\{x_i\\}$ is exhaustive and exclusive, \n",
    "  $$ \\sum_i p(x_i  \\mid  I) = 1   \\quad \\longrightarrow \\quad       \\color{red}{\\int\\!dx\\, p(x \\mid I) = 1} \n",
    "  $$ \n",
    "    * cf. complete and orthonormal \n",
    "    * implies *marginalization* (cf. inserting complete set of states or integrating out variables - but be careful!)\n",
    "  $$\n",
    "   p(x \\mid  I) = \\sum_j p(x,y_j \\mid I) \n",
    "    \\quad \\longrightarrow \\quad\n",
    "   \\color{red}{p(x \\mid I) = \\int\\!dy\\, p(x,y \\mid I)} \n",
    "  $$\n",
    "   \n",
    "  \n",
    "2. **Product rule:** expanding a joint probability of $x$ and $y$         \n",
    "     $$\n",
    "         \\color{red}{ p(x,y \\mid I) = p(x \\mid y,I)\\,p(y \\mid I)\n",
    "              = p(y \\mid x,I)\\,p(x \\mid I)}\n",
    "     $$\n",
    "\n",
    "    * If $x$ and $y$ are <em>mutually independent</em>:  $p(x \\mid y,I)\n",
    "      = p(x \\mid I)$, then        \n",
    "    $$\n",
    "       p(x,y \\mid I) \\longrightarrow p(x \\mid I)\\,p(y \\mid I)\n",
    "    $$\n",
    "    * Rearranging the second equality yields <em> Bayes' Rule (or Theorem)</em>\n",
    "     $$\n",
    "      \\color{blue}{p(x  \\mid y,I) = \\frac{p(y \\mid x,I)\\, \n",
    "       p(x \\mid I)}{p(y \\mid I)}}\n",
    "     $$\n",
    "\n",
    "See <a href=\"https://www.amazon.com/Algebra-Probable-Inference-Richard-Cox/dp/080186982X/ref=sr_1_1?s=books&ie=UTF8&qid=1538835666&sr=1-1\">Cox</a> for the proof."
   ]
  },
  {
   "cell_type": "markdown",
   "metadata": {},
   "source": [
    "## Answer the questions in *italics*. Check answers with your neighbors. Ask for help if you get stuck or are unsure."
   ]
  },
  {
   "cell_type": "code",
   "execution_count": 1,
   "metadata": {},
   "outputs": [
    {
     "data": {
      "text/html": [
       "<style>\n",
       " table { width:80% !important; }\n",
       " table td, th { border: 1px solid black !important; \n",
       "         text-align:center !important;\n",
       "         font-size: 20px }\n",
       "</style>\n"
      ],
      "text/plain": [
       "<IPython.core.display.HTML object>"
      ]
     },
     "metadata": {},
     "output_type": "display_data"
    }
   ],
   "source": [
    "%%html\n",
    "<style>\n",
    " table { width:80% !important; }\n",
    " table td, th { border: 1px solid black !important; \n",
    "         text-align:center !important;\n",
    "         font-size: 20px }\n",
    "</style>"
   ]
  },
  {
   "cell_type": "code",
   "execution_count": 24,
   "metadata": {},
   "outputs": [
    {
     "data": {
      "text/plain": [
       "array([0.50666667, 0.49333333, 1.        ])"
      ]
     },
     "execution_count": 24,
     "metadata": {},
     "output_type": "execute_result"
    }
   ],
   "source": [
    "import numpy as np\n",
    "np.array([38, 37,75])*1/75"
   ]
  },
  {
   "cell_type": "markdown",
   "metadata": {},
   "source": [
    "|     TABLE 1     | Blue         | Brown         |  Total        |\n",
    "| :-------------: | :----------: | :-----------: | :-----------: |\n",
    "|  Tall           | 1            | 17            | 18            |\n",
    "| Short           | 37           | 20            | 57            |\n",
    "| Total           | 38           | 37            | 75            |\n",
    "\n",
    "|     TABLE 2     | Blue         | Brown         |  Total        |\n",
    "| :-------------: | :----------: | :-----------: | :-----------: |\n",
    "|  Tall           |      0.01333333333    |   0.2266666667        |   0.05556|\n",
    "| Short           |      0.4933    |   0.2667        |   0.76      |\n",
    "| Total           |      0.50666    |   0.49333       |   1      |"
   ]
  },
  {
   "cell_type": "markdown",
   "metadata": {},
   "source": [
    "1. Table 1 shows the number of blue- or brown-eyed and tall or short individuals in a population of 75.\n",
    "*Fill in the blanks in Table 2 with probabilities (in decimals with three places, not fractions) based on the usual \"frequentist\" interpretations of probability* (which would say that the probability of randomly drawing an ace from a deck of cards is 4/52 = 1/13). *Add x's in the row and/or column that illustrates the sum rule.*\n",
    "<br>\n",
    "<br>"
   ]
  },
  {
   "cell_type": "code",
   "execution_count": 29,
   "metadata": {},
   "outputs": [
    {
     "data": {
      "text/html": [
       "<table>\n",
       "<tbody>\n",
       "<tr><td style=\"text-align: right;\">0.0133333</td><td style=\"text-align: right;\">0.22666</td><td style=\"text-align: right;\">0.05556</td></tr>\n",
       "<tr><td style=\"text-align: right;\">0.4933   </td><td style=\"text-align: right;\">0.2667 </td><td style=\"text-align: right;\">0.76   </td></tr>\n",
       "<tr><td style=\"text-align: right;\">0.50666  </td><td style=\"text-align: right;\">0.49333</td><td style=\"text-align: right;\">1      </td></tr>\n",
       "</tbody>\n",
       "</table>"
      ],
      "text/plain": [
       "<IPython.core.display.HTML object>"
      ]
     },
     "metadata": {},
     "output_type": "display_data"
    },
    {
     "data": {
      "text/plain": [
       "0.0133333"
      ]
     },
     "execution_count": 29,
     "metadata": {},
     "output_type": "execute_result"
    }
   ],
   "source": [
    "from IPython.display import HTML, display\n",
    "import tabulate\n",
    "table = [[0.0133333,0.22666, 0.05556],\n",
    "         [0.4933,0.2667,0.76 ],\n",
    "         [0.50666,0.49333,1]]\n",
    "display(HTML(tabulate.tabulate(table, tablefmt='html')))\n",
    "\n",
    "table[0][0]"
   ]
  },
  {
   "cell_type": "markdown",
   "metadata": {},
   "source": [
    "2. *What is $\\pr(short, blue)$? Is this a joint or conditional probability?  What is $\\pr(blue)$? \n",
    "<br>From the product rule, what is $\\pr(short | blue)$?  Can you read this result directly from the table?*"
   ]
  },
  {
   "cell_type": "code",
   "execution_count": 47,
   "metadata": {},
   "outputs": [
    {
     "name": "stdout",
     "output_type": "stream",
     "text": [
      "0.4933 0.50666 0.9736312319898947\n"
     ]
    }
   ],
   "source": [
    "print(table[1][0], table[2][0], table[1][0]/table[2][0])\n"
   ]
  },
  {
   "cell_type": "markdown",
   "metadata": {},
   "source": [
    "3. *Apply Bayes' theorem to find $\\pr(blue | short)$ from your answers to the last part.*\n"
   ]
  },
  {
   "cell_type": "code",
   "execution_count": 48,
   "metadata": {},
   "outputs": [
    {
     "data": {
      "text/plain": [
       "0.6490581263157895"
      ]
     },
     "execution_count": 48,
     "metadata": {},
     "output_type": "execute_result"
    }
   ],
   "source": [
    "0.9736*table[2][0]/table[1][2]"
   ]
  },
  {
   "cell_type": "markdown",
   "metadata": {},
   "source": [
    "4. *What rule does the second row (the one starting with \"Short\") illustrate?  Write it out in $\\pr(\\cdot)$ notation.* "
   ]
  },
  {
   "cell_type": "markdown",
   "metadata": {},
   "source": [
    "5. *Are the probabilities of being tall and having brown eyes mutually independent?  Why or why not?*\n",
    "<br>\n",
    "<br>\n",
    "<br>\n",
    "No, $P(tall, brown) = 0.227 \\neq P(tall)\\cdot P(brown) = 0.24\\times0.494 $\n"
   ]
  },
  {
   "cell_type": "markdown",
   "metadata": {},
   "source": [
    "# Notes\n",
    "\n",
    "$P(A|B)$ means probability $A$ being truue if $B$ were true.\n",
    "$P(A|B)$ $\\neq$ $P(A,B)$\n",
    "\n",
    "\n",
    "$p(A\\bigcup B)=P(A)+P(B)-P(A\\bigcap B)$\n",
    "\n",
    "Exhaustive->Complete\n",
    "\n",
    "Exclusive->Incomplete\n",
    "\n",
    "Bayes' rule give us the recipe to update the likelihood when new data is obtained.\n",
    "\n"
   ]
  },
  {
   "cell_type": "code",
   "execution_count": null,
   "metadata": {},
   "outputs": [],
   "source": []
  },
  {
   "cell_type": "code",
   "execution_count": null,
   "metadata": {},
   "outputs": [],
   "source": []
  }
 ],
 "metadata": {
  "kernelspec": {
   "display_name": "Python 3",
   "language": "python",
   "name": "python3"
  },
  "language_info": {
   "codemirror_mode": {
    "name": "ipython",
    "version": 3
   },
   "file_extension": ".py",
   "mimetype": "text/x-python",
   "name": "python",
   "nbconvert_exporter": "python",
   "pygments_lexer": "ipython3",
   "version": "3.7.3"
  }
 },
 "nbformat": 4,
 "nbformat_minor": 2
}
